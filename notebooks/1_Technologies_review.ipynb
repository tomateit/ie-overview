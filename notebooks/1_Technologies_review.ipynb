{
 "cells": [
  {
   "cell_type": "markdown",
   "id": "round-roads",
   "metadata": {},
   "source": [
    "# Extracting triplets from data for further analysis"
   ]
  },
  {
   "cell_type": "markdown",
   "id": "respective-ballot",
   "metadata": {},
   "source": [
    "Graph data can be stored in two main forms:\n",
    "+ LPS: labeled property graph with no schema and arbitary label properties\n",
    "+ RDF: with predefined types of relations; supports resoning "
   ]
  },
  {
   "cell_type": "markdown",
   "id": "numeric-brief",
   "metadata": {},
   "source": [
    "### How to automatically fill this data.\n",
    "For example, we can extract Named Entities, then, from natural text, using sematic properties of language, we can extend our data. "
   ]
  },
  {
   "cell_type": "markdown",
   "id": "ruled-contents",
   "metadata": {},
   "source": [
    "## Language semantics"
   ]
  },
  {
   "cell_type": "markdown",
   "id": "weird-allen",
   "metadata": {},
   "source": [
    "As a baseline in extracting relations from text we can use spaCy capabilities of semantic parsing."
   ]
  },
  {
   "cell_type": "code",
   "execution_count": 12,
   "id": "paperback-updating",
   "metadata": {},
   "outputs": [
    {
     "name": "stdout",
     "output_type": "stream",
     "text": [
      "Collecting en_core_web_sm==2.3.1\n",
      "  Downloading https://github.com/explosion/spacy-models/releases/download/en_core_web_sm-2.3.1/en_core_web_sm-2.3.1.tar.gz (12.0 MB)\n",
      "\u001b[K     |████████████████████████████████| 12.0 MB 11.8 MB/s eta 0:00:01\n",
      "\u001b[?25hRequirement already satisfied: spacy<2.4.0,>=2.3.0 in /home/master/.local/share/miniconda3/lib/python3.8/site-packages (from en_core_web_sm==2.3.1) (2.3.5)\n",
      "Requirement already satisfied: cymem<2.1.0,>=2.0.2 in /home/master/.local/share/miniconda3/lib/python3.8/site-packages (from spacy<2.4.0,>=2.3.0->en_core_web_sm==2.3.1) (2.0.5)\n",
      "Requirement already satisfied: srsly<1.1.0,>=1.0.2 in /home/master/.local/share/miniconda3/lib/python3.8/site-packages (from spacy<2.4.0,>=2.3.0->en_core_web_sm==2.3.1) (1.0.5)\n",
      "Requirement already satisfied: murmurhash<1.1.0,>=0.28.0 in /home/master/.local/share/miniconda3/lib/python3.8/site-packages (from spacy<2.4.0,>=2.3.0->en_core_web_sm==2.3.1) (1.0.5)\n",
      "Requirement already satisfied: requests<3.0.0,>=2.13.0 in /home/master/.local/share/miniconda3/lib/python3.8/site-packages (from spacy<2.4.0,>=2.3.0->en_core_web_sm==2.3.1) (2.22.0)\n",
      "Requirement already satisfied: setuptools in /home/master/.local/share/miniconda3/lib/python3.8/site-packages (from spacy<2.4.0,>=2.3.0->en_core_web_sm==2.3.1) (51.3.3.post20210118)\n",
      "Requirement already satisfied: plac<1.2.0,>=0.9.6 in /home/master/.local/share/miniconda3/lib/python3.8/site-packages (from spacy<2.4.0,>=2.3.0->en_core_web_sm==2.3.1) (1.1.3)\n",
      "Requirement already satisfied: numpy>=1.15.0 in /home/master/.local/share/miniconda3/lib/python3.8/site-packages (from spacy<2.4.0,>=2.3.0->en_core_web_sm==2.3.1) (1.18.0)\n",
      "Requirement already satisfied: tqdm<5.0.0,>=4.38.0 in /home/master/.local/share/miniconda3/lib/python3.8/site-packages (from spacy<2.4.0,>=2.3.0->en_core_web_sm==2.3.1) (4.41.1)\n",
      "Requirement already satisfied: catalogue<1.1.0,>=0.0.7 in /home/master/.local/share/miniconda3/lib/python3.8/site-packages (from spacy<2.4.0,>=2.3.0->en_core_web_sm==2.3.1) (1.0.0)\n",
      "Requirement already satisfied: thinc<7.5.0,>=7.4.1 in /home/master/.local/share/miniconda3/lib/python3.8/site-packages (from spacy<2.4.0,>=2.3.0->en_core_web_sm==2.3.1) (7.4.5)\n",
      "Requirement already satisfied: wasabi<1.1.0,>=0.4.0 in /home/master/.local/share/miniconda3/lib/python3.8/site-packages (from spacy<2.4.0,>=2.3.0->en_core_web_sm==2.3.1) (0.8.2)\n",
      "Requirement already satisfied: preshed<3.1.0,>=3.0.2 in /home/master/.local/share/miniconda3/lib/python3.8/site-packages (from spacy<2.4.0,>=2.3.0->en_core_web_sm==2.3.1) (3.0.5)\n",
      "Requirement already satisfied: blis<0.8.0,>=0.4.0 in /home/master/.local/share/miniconda3/lib/python3.8/site-packages (from spacy<2.4.0,>=2.3.0->en_core_web_sm==2.3.1) (0.7.4)\n",
      "Requirement already satisfied: idna<2.9,>=2.5 in /home/master/.local/share/miniconda3/lib/python3.8/site-packages (from requests<3.0.0,>=2.13.0->spacy<2.4.0,>=2.3.0->en_core_web_sm==2.3.1) (2.8)\n",
      "Requirement already satisfied: chardet<3.1.0,>=3.0.2 in /home/master/.local/share/miniconda3/lib/python3.8/site-packages (from requests<3.0.0,>=2.13.0->spacy<2.4.0,>=2.3.0->en_core_web_sm==2.3.1) (3.0.4)\n",
      "Requirement already satisfied: urllib3!=1.25.0,!=1.25.1,<1.26,>=1.21.1 in /home/master/.local/share/miniconda3/lib/python3.8/site-packages (from requests<3.0.0,>=2.13.0->spacy<2.4.0,>=2.3.0->en_core_web_sm==2.3.1) (1.25.11)\n",
      "Requirement already satisfied: certifi>=2017.4.17 in /home/master/.local/share/miniconda3/lib/python3.8/site-packages (from requests<3.0.0,>=2.13.0->spacy<2.4.0,>=2.3.0->en_core_web_sm==2.3.1) (2020.12.5)\n",
      "Building wheels for collected packages: en-core-web-sm\n",
      "  Building wheel for en-core-web-sm (setup.py) ... \u001b[?25ldone\n",
      "\u001b[?25h  Created wheel for en-core-web-sm: filename=en_core_web_sm-2.3.1-py3-none-any.whl size=12047106 sha256=c942e3487e851c002aa5fd481e4740035e51264d665a4a8f8bdc60fc81174ed3\n",
      "  Stored in directory: /tmp/pip-ephem-wheel-cache-wqqzkxpm/wheels/ee/4d/f7/563214122be1540b5f9197b52cb3ddb9c4a8070808b22d5a84\n",
      "Successfully built en-core-web-sm\n",
      "Installing collected packages: en-core-web-sm\n",
      "Successfully installed en-core-web-sm-2.3.1\n",
      "\u001b[38;5;2m✔ Download and installation successful\u001b[0m\n",
      "You can now load the model via spacy.load('en_core_web_sm')\n"
     ]
    }
   ],
   "source": [
    "!python -m spacy download en_core_web_sm"
   ]
  },
  {
   "cell_type": "code",
   "execution_count": 1,
   "id": "steady-nation",
   "metadata": {},
   "outputs": [],
   "source": [
    "import spacy\n",
    "\n",
    "nlp = spacy.load(\"en_core_web_sm\")\n",
    "text = \"Demand for lithium is expected to outpace global supply as consumers switch to battery-powered vehicles. With China currently leading in processing of the vital raw material, the U.S. government is looking to boost domestic production.\"\n",
    "doc = nlp(text)"
   ]
  },
  {
   "cell_type": "code",
   "execution_count": 3,
   "id": "rising-palmer",
   "metadata": {},
   "outputs": [
    {
     "name": "stdout",
     "output_type": "stream",
     "text": [
      "Demand:  NOUN\n",
      "for:  ADP\n",
      "lithium:  NOUN\n",
      "is:  AUX\n",
      "expected:  VERB\n",
      "to:  PART\n",
      "outpace:  VERB\n",
      "global:  ADJ\n",
      "supply:  NOUN\n",
      "as:  SCONJ\n",
      "consumers:  NOUN\n",
      "switch:  VERB\n",
      "to:  ADP\n",
      "battery:  NOUN\n",
      "-:  PUNCT\n",
      "powered:  VERB\n",
      "vehicles:  NOUN\n",
      ".:  PUNCT\n",
      "With:  ADP\n",
      "China:  PROPN\n",
      "currently:  ADV\n",
      "leading:  VERB\n",
      "in:  ADP\n",
      "processing:  NOUN\n",
      "of:  ADP\n",
      "the:  DET\n",
      "vital:  ADJ\n",
      "raw:  ADJ\n",
      "material:  NOUN\n",
      ",:  PUNCT\n",
      "the:  DET\n",
      "U.S.:  PROPN\n",
      "government:  NOUN\n",
      "is:  AUX\n",
      "looking:  VERB\n",
      "to:  PART\n",
      "boost:  VERB\n",
      "domestic:  ADJ\n",
      "production:  NOUN\n",
      ".:  PUNCT\n"
     ]
    }
   ],
   "source": [
    "for token in doc:\n",
    "    print(f\"{token.text}:  {token.pos_}\")"
   ]
  },
  {
   "cell_type": "code",
   "execution_count": 6,
   "id": "nuclear-adelaide",
   "metadata": {},
   "outputs": [
    {
     "name": "stdout",
     "output_type": "stream",
     "text": [
      "China 110 115 GPE\n",
      "U.S. 179 183 GPE\n"
     ]
    }
   ],
   "source": [
    "for entity in doc.ents:\n",
    "    print(entity.text, entity.start_char, entity.end_char, entity.label_)"
   ]
  },
  {
   "cell_type": "markdown",
   "id": "rough-banner",
   "metadata": {},
   "source": [
    "Spacy provides us with a dependency tree of some kind"
   ]
  },
  {
   "cell_type": "code",
   "execution_count": 8,
   "id": "formal-jumping",
   "metadata": {},
   "outputs": [
    {
     "name": "stdout",
     "output_type": "stream",
     "text": [
      "Demand for lithium is expected to outpace global supply as consumers switch to battery-powered vehicles.\n",
      "                    expected                                       \n",
      "  _____________________|________                                    \n",
      " |   |     |                 outpace                               \n",
      " |   |     |      ______________|________                           \n",
      " |   |     |     |     |               switch                      \n",
      " |   |     |     |     |         ________|________________          \n",
      " |   |     |     |     |        |        |                to       \n",
      " |   |     |     |     |        |        |                |         \n",
      " |   |   Demand  |     |        |        |             vehicles    \n",
      " |   |     |     |     |        |        |                |         \n",
      " |   |    for    |   supply     |        |             powered     \n",
      " |   |     |     |     |        |        |         _______|______   \n",
      " is  .  lithium  to  global     as   consumers battery           - \n",
      "\n",
      "With China currently leading in processing of the vital raw material, the U.S. government is looking to boost domestic production.\n",
      "                            looking                                                        \n",
      "  _____________________________|_____________________________________________               \n",
      " |   |   |                    With                         |                 |             \n",
      " |   |   |                     |                           |                 |              \n",
      " |   |   |                  leading                        |                 |             \n",
      " |   |   |     ________________|________                   |                 |              \n",
      " |   |   |    |       |                 in                 |                 |             \n",
      " |   |   |    |       |                 |                  |                 |              \n",
      " |   |   |    |       |             processing             |                 |             \n",
      " |   |   |    |       |                 |                  |                 |              \n",
      " |   |   |    |       |                 of                 |               boost           \n",
      " |   |   |    |       |                 |                  |             ____|_______       \n",
      " |   |   |    |       |              material          government       |        production\n",
      " |   |   |    |       |         ________|_______     ______|_______     |            |      \n",
      " ,   is  .  China currently   the     vital    raw the            U.S.  to        domestic \n",
      "\n"
     ]
    }
   ],
   "source": [
    "import spacy\n",
    "from nltk import Tree\n",
    "\n",
    "def to_nltk_tree(node):\n",
    "    if node.n_lefts + node.n_rights > 0:\n",
    "        return Tree(node.orth_, [to_nltk_tree(child) for child in node.children])\n",
    "    else:\n",
    "        return node.orth_\n",
    "\n",
    "\n",
    "for sent in doc.sents:\n",
    "    print(sent.text)\n",
    "    to_nltk_tree(sent.root).pretty_print()"
   ]
  },
  {
   "cell_type": "code",
   "execution_count": null,
   "id": "ecological-belize",
   "metadata": {},
   "outputs": [],
   "source": []
  },
  {
   "cell_type": "markdown",
   "id": "adopted-escape",
   "metadata": {},
   "source": [
    "With help of matchers we can extract some relations"
   ]
  },
  {
   "cell_type": "markdown",
   "id": "dominant-colonial",
   "metadata": {},
   "source": [
    "## Temporal information"
   ]
  },
  {
   "cell_type": "markdown",
   "id": "applicable-active",
   "metadata": {},
   "source": [
    "Along with temporal (datetime) data found in metadata, we can extract some of it"
   ]
  },
  {
   "cell_type": "code",
   "execution_count": 9,
   "id": "determined-evidence",
   "metadata": {
    "collapsed": true,
    "jupyter": {
     "outputs_hidden": true
    }
   },
   "outputs": [
    {
     "name": "stdout",
     "output_type": "stream",
     "text": [
      "Collecting dateparser\n",
      "  Downloading dateparser-1.0.0-py2.py3-none-any.whl (279 kB)\n",
      "\u001b[K     |████████████████████████████████| 279 kB 2.2 MB/s eta 0:00:01\n",
      "\u001b[?25hRequirement already satisfied: pytz in /home/master/.local/share/miniconda3/lib/python3.8/site-packages (from dateparser) (2019.1)\n",
      "Requirement already satisfied: python-dateutil in /home/master/.local/share/miniconda3/lib/python3.8/site-packages (from dateparser) (2.8.1)\n",
      "Requirement already satisfied: regex!=2019.02.19 in /home/master/.local/share/miniconda3/lib/python3.8/site-packages (from dateparser) (2020.11.13)\n",
      "Requirement already satisfied: six>=1.5 in /home/master/.local/share/miniconda3/lib/python3.8/site-packages (from python-dateutil->dateparser) (1.15.0)\n",
      "Collecting tzlocal\n",
      "  Downloading tzlocal-2.1-py2.py3-none-any.whl (16 kB)\n",
      "Installing collected packages: tzlocal, dateparser\n",
      "Successfully installed dateparser-1.0.0 tzlocal-2.1\n"
     ]
    }
   ],
   "source": [
    "!pip install dateparser"
   ]
  },
  {
   "cell_type": "code",
   "execution_count": 15,
   "id": "cellular-hostel",
   "metadata": {},
   "outputs": [],
   "source": [
    "import dateparser\n",
    "\n",
    "text = \"The analysts expects AMD fiscal earnings of $2.04 a share in 2021, $2.59 a share in 2022, and $2.90 a share in 2023, while analysts surveyed by FactSet expect per-share earnings of $1.95, $2.51, and $3.23, respectively. \"\n",
    "\n",
    "dateparser.parse(text)"
   ]
  },
  {
   "cell_type": "code",
   "execution_count": 18,
   "id": "bored-authorization",
   "metadata": {},
   "outputs": [
    {
     "data": {
      "text/plain": [
       "datetime.datetime(2021, 12, 26, 0, 0)"
      ]
     },
     "execution_count": 18,
     "metadata": {},
     "output_type": "execute_result"
    }
   ],
   "source": [
    "dateparser.parse(\"In December\")"
   ]
  },
  {
   "cell_type": "markdown",
   "id": "guided-ambassador",
   "metadata": {},
   "source": [
    "works poorly for my purposes. :("
   ]
  },
  {
   "cell_type": "code",
   "execution_count": null,
   "id": "international-sarah",
   "metadata": {},
   "outputs": [],
   "source": []
  }
 ],
 "metadata": {
  "kernelspec": {
   "display_name": "Python 3",
   "language": "python",
   "name": "python3"
  },
  "language_info": {
   "codemirror_mode": {
    "name": "ipython",
    "version": 3
   },
   "file_extension": ".py",
   "mimetype": "text/x-python",
   "name": "python",
   "nbconvert_exporter": "python",
   "pygments_lexer": "ipython3",
   "version": "3.8.2"
  }
 },
 "nbformat": 4,
 "nbformat_minor": 5
}
